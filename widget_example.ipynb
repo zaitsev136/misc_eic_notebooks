{
 "cells": [
  {
   "cell_type": "code",
   "execution_count": 1,
   "metadata": {},
   "outputs": [],
   "source": [
    "from ipywidgets import IntProgress, HTML, VBox, Button, HBox\n",
    "from IPython.display import display\n",
    "from time import sleep\n",
    "import itertools"
   ]
  },
  {
   "cell_type": "code",
   "execution_count": 2,
   "metadata": {},
   "outputs": [],
   "source": [
    "class ControlWidget:\n",
    "    def __init__(self, sequence, size=None, every=None, name='Events'):\n",
    "        self.__button = Button(description='Run', icon='play')\n",
    "        self.__progress = IntProgress(min=0, max=1, value=0)\n",
    "        self.__label = HTML()\n",
    "        self.__box = HBox(children=[self.__button, self.__progress, self.__label])\n",
    "        self.__button.on_click(self.__on_click)\n",
    "        self.__every = every\n",
    "        self.__is_size_unknown = False\n",
    "        self.name = name\n",
    "        self.__size = size\n",
    "        self.set_new_sequence(sequence, size, every, name)\n",
    "        \n",
    "    def __on_click(self, b):\n",
    "        self.__sequence, seq = itertools.tee(self.__sequence)\n",
    "        index = 0\n",
    "        try:\n",
    "            for index, record in enumerate(seq, 1):\n",
    "                if index == 1 or index % self.__every == 0:\n",
    "                    if self.__is_size_unknown:\n",
    "                        self.__progress.value = 1\n",
    "                        self.__label.value = '{name}: {index} / ?'.format(\n",
    "                            name=self.name,\n",
    "                            index=index\n",
    "                        )\n",
    "                    else:\n",
    "                        self.__progress.value = index\n",
    "                        self.__label.value = u'{name}: {index} / {size}'.format(\n",
    "                            name=self.name,\n",
    "                            index=index,\n",
    "                            size=self.__size\n",
    "                        )\n",
    "                #yield record\n",
    "        except:\n",
    "            self.__progress.bar_style = 'danger'\n",
    "            raise\n",
    "        else:\n",
    "            self.__progress.bar_style = 'success'\n",
    "            self.__progress.value = index\n",
    "            self.__label.value = \"{name}: {index}\".format(\n",
    "                name=self.name,\n",
    "                index=str(index or '?')\n",
    "            )\n",
    "            \n",
    "    def set_new_sequence(self, seq, size=None, every=None, name='Events'):\n",
    "        self.__sequence = seq\n",
    "        self.name = name\n",
    "        \n",
    "        self.__is_size_unknown = False\n",
    "        self.__size = size\n",
    "        self.__every = every\n",
    "        if size is None:\n",
    "            try:\n",
    "                self.__size = len(seq)\n",
    "            except TypeError:\n",
    "                self.__is_size_unknown = True\n",
    "        if size is not None:\n",
    "            if every is None:\n",
    "                if size <= 200:\n",
    "                    self.__every = 1\n",
    "                else:\n",
    "                    self.__every = int(size / 200)\n",
    "        else:\n",
    "            if every is None:\n",
    "                self.__every = 1\n",
    "\n",
    "        if self.__is_size_unknown:\n",
    "            self.__progress.min = 0\n",
    "            self.__progress.max = 1\n",
    "            self.__progress.value = 0\n",
    "            self.__progress.bar_style = 'info'\n",
    "        else:\n",
    "            self.__progress.min = 0\n",
    "            self.__progress.max = size\n",
    "            self.__progress.value = 0\n",
    "            self.__progress.bar_style = ''\n",
    "        \n",
    "    def draw(self):\n",
    "        display(self.__box)"
   ]
  },
  {
   "cell_type": "code",
   "execution_count": 3,
   "metadata": {},
   "outputs": [],
   "source": [
    "def gen(max):\n",
    "    num = 0\n",
    "    while num < max:\n",
    "        # instead of sleep, extract event number here\n",
    "        sleep(0.03)\n",
    "        yield num\n",
    "        num += 1"
   ]
  },
  {
   "cell_type": "code",
   "execution_count": 4,
   "metadata": {},
   "outputs": [
    {
     "data": {
      "application/vnd.jupyter.widget-view+json": {
       "model_id": "5376e2372cb34b5890287ed4bf101b6c",
       "version_major": 2,
       "version_minor": 0
      },
      "text/plain": [
       "HBox(children=(Button(description='Run', icon='play', style=ButtonStyle()), IntProgress(value=0, bar_style='in…"
      ]
     },
     "metadata": {},
     "output_type": "display_data"
    }
   ],
   "source": [
    "g = gen(100)\n",
    "c = ControlWidget(g)\n",
    "c.draw()"
   ]
  },
  {
   "cell_type": "code",
   "execution_count": 5,
   "metadata": {},
   "outputs": [],
   "source": [
    "# set new sequence to run it again \n",
    "c.set_new_sequence(gen(150), 150, 5)"
   ]
  }
 ],
 "metadata": {
  "kernelspec": {
   "display_name": "Python 3",
   "language": "python",
   "name": "python3"
  },
  "language_info": {
   "codemirror_mode": {
    "name": "ipython",
    "version": 3
   },
   "file_extension": ".py",
   "mimetype": "text/x-python",
   "name": "python",
   "nbconvert_exporter": "python",
   "pygments_lexer": "ipython3",
   "version": "3.6.7"
  }
 },
 "nbformat": 4,
 "nbformat_minor": 2
}
